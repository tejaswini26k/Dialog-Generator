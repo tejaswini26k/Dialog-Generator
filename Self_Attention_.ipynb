{
  "nbformat": 4,
  "nbformat_minor": 0,
  "metadata": {
    "colab": {
      "provenance": []
    },
    "kernelspec": {
      "name": "python3",
      "display_name": "Python 3"
    },
    "language_info": {
      "name": "python"
    }
  },
  "cells": [
    {
      "cell_type": "code",
      "execution_count": null,
      "metadata": {
        "colab": {
          "base_uri": "https://localhost:8080/"
        },
        "id": "5i5Hb1mYlZKL",
        "outputId": "2703abc2-099b-47c9-b140-20cb0324ceff"
      },
      "outputs": [
        {
          "output_type": "stream",
          "name": "stdout",
          "text": [
            "Path to dataset files: /kaggle/input/dailydialog-multi-turn-dialog-with-intention-and\n"
          ]
        }
      ],
      "source": [
        "import kagglehub\n",
        "\n",
        "# Download latest version\n",
        "path = kagglehub.dataset_download(\"thedevastator/dailydialog-multi-turn-dialog-with-intention-and\")\n",
        "\n",
        "print(\"Path to dataset files:\", path)"
      ]
    },
    {
      "cell_type": "code",
      "source": [
        "import pandas as pd\n",
        "import kagglehub\n",
        "import os\n",
        "\n",
        "# Step 1: Download the dataset\n",
        "dataset_path = kagglehub.dataset_download(\"thedevastator/dailydialog-multi-turn-dialog-with-intention-and\")\n",
        "print(\"Downloaded dataset path:\", dataset_path)\n",
        "\n",
        "# Step 2: Load CSV files manually using the path\n",
        "train_df = pd.read_csv(os.path.join(dataset_path, \"train.csv\"))\n",
        "valid_df = pd.read_csv(os.path.join(dataset_path, \"validation.csv\"))\n",
        "test_df = pd.read_csv(os.path.join(dataset_path, \"test.csv\"))\n",
        "\n",
        "# Step 3: Preview the data\n",
        "print(\"Train Sample:\")\n",
        "print(train_df.head())\n",
        "\n",
        "print(\"\\nValidation Sample:\")\n",
        "print(valid_df.head())\n",
        "\n",
        "print(\"\\nTest Sample:\")\n",
        "print(test_df.head())\n"
      ],
      "metadata": {
        "colab": {
          "base_uri": "https://localhost:8080/"
        },
        "id": "u9LpKFOPmh-c",
        "outputId": "af7ede10-2eb8-4cef-d6c5-7ba7bd78e476"
      },
      "execution_count": null,
      "outputs": [
        {
          "output_type": "stream",
          "name": "stdout",
          "text": [
            "Downloaded dataset path: /kaggle/input/dailydialog-multi-turn-dialog-with-intention-and\n",
            "Train Sample:\n",
            "                                              dialog                    act  \\\n",
            "0  ['Say , Jim , how about going for a few beers ...  [3 4 2 2 2 3 4 1 3 4]   \n",
            "1  ['Can you do push-ups ? '\\n \" Of course I can ...          [2 1 2 2 1 1]   \n",
            "2  ['Can you study with the radio on ? '\\n ' No ,...            [2 1 2 1 1]   \n",
            "3  ['Are you all right ? '\\n ' I will be all righ...              [2 1 1 1]   \n",
            "4  ['Hey John , nice skates . Are they new ? '\\n ...    [2 1 2 1 1 2 1 3 4]   \n",
            "\n",
            "                 emotion  \n",
            "0  [0 0 0 0 0 0 4 4 4 4]  \n",
            "1          [0 0 6 0 0 0]  \n",
            "2            [0 0 0 0 0]  \n",
            "3              [0 0 0 0]  \n",
            "4    [0 0 0 0 0 6 0 6 0]  \n",
            "\n",
            "Validation Sample:\n",
            "                                              dialog  \\\n",
            "0  ['Good morning , sir . Is there a bank near he...   \n",
            "1  ['Good afternoon . This is Michelle Li speakin...   \n",
            "2  ['What qualifications should a reporter have ?...   \n",
            "3  ['Hi , good morning , Miss ? what can I help y...   \n",
            "4  [\"Excuse me , ma'am . Can you tell me where th...   \n",
            "\n",
            "                                 act                            emotion  \n",
            "0                    [2 1 3 2 1 2 1]                    [0 0 0 0 0 0 0]  \n",
            "1              [2 1 1 1 1 2 3 2 3 4]              [0 0 0 0 0 0 0 0 0 0]  \n",
            "2                          [2 1 2 1]                          [0 0 0 0]  \n",
            "3  [2 3 2 2 1 2 1 2 1 1 1 3 2 1 3 4]  [0 0 0 0 0 0 0 0 0 0 0 0 0 0 0 4]  \n",
            "4                  [3 4 2 1 2 1 1 1]                  [0 0 0 0 0 0 4 4]  \n",
            "\n",
            "Test Sample:\n",
            "                                              dialog  \\\n",
            "0  ['Hey man , you wanna buy some weed ? ' ' Some...   \n",
            "1  ['The taxi drivers are on strike again . ' ' W...   \n",
            "2  [\"We've managed to reduce our energy consumpti...   \n",
            "3  ['Believe it or not , tea is the most popular ...   \n",
            "4  ['What are your personal weaknesses ? '\\n ' I ...   \n",
            "\n",
            "                             act                        emotion  \n",
            "0      [3 2 3 4 3 4 3 2 3 4 2 3]      [0 6 0 0 0 0 0 0 0 0 3 0]  \n",
            "1                      [1 2 1 1]                      [0 0 0 0]  \n",
            "2                [1 2 1 2 1 2 1]                [0 0 0 0 0 0 0]  \n",
            "3  [1 1 1 1 2 2 2 2 1 1 1 3 4 3]  [0 0 0 0 0 0 0 0 0 4 0 0 4 4]  \n",
            "4              [2 1 2 1 2 1 2 1]              [0 0 0 0 0 0 0 4]  \n"
          ]
        }
      ]
    },
    {
      "cell_type": "code",
      "source": [
        "import tensorflow as tf\n",
        "from tensorflow.keras.preprocessing.text import Tokenizer\n",
        "from tensorflow.keras.preprocessing.sequence import pad_sequences\n",
        "from tensorflow.keras.models import Model\n",
        "from tensorflow.keras.layers import Input, Embedding, Dense, LayerNormalization, Dropout\n",
        "from tensorflow.keras.layers import Layer\n",
        "from tensorflow.keras.layers import Lambda\n",
        "import numpy as np\n",
        "\n",
        "# Prepare data: Get sample inputs from train_df\n",
        "texts = train_df['dialog'].astype(str).tolist()[:1000]  # Use fewer for demo\n",
        "\n",
        "# Tokenize\n",
        "tokenizer = Tokenizer()\n",
        "tokenizer.fit_on_texts(texts)\n",
        "sequences = tokenizer.texts_to_sequences(texts)\n",
        "padded = pad_sequences(sequences, padding='post')\n",
        "vocab_size = len(tokenizer.word_index) + 1\n",
        "\n",
        "# Custom Self-Attention Layer\n",
        "class SelfAttention(Layer):\n",
        "    def __init__(self, units):\n",
        "        super(SelfAttention, self).__init__()\n",
        "        self.units = units\n",
        "        self.Wq = Dense(units)\n",
        "        self.Wk = Dense(units)\n",
        "        self.Wv = Dense(units)\n",
        "\n",
        "    def call(self, inputs):\n",
        "        Q = self.Wq(inputs)\n",
        "        K = self.Wk(inputs)\n",
        "        V = self.Wv(inputs)\n",
        "\n",
        "        scores = tf.matmul(Q, K, transpose_b=True) / tf.math.sqrt(tf.cast(self.units, tf.float32))\n",
        "        weights = tf.nn.softmax(scores, axis=-1)\n",
        "        output = tf.matmul(weights, V)\n",
        "        return output\n",
        "\n",
        "# Define the model\n",
        "input_layer = Input(shape=(padded.shape[1],))\n",
        "embedding_layer = Embedding(input_dim=vocab_size, output_dim=64)(input_layer)\n",
        "attention_output = SelfAttention(64)(embedding_layer)\n",
        "\n",
        "pooled = Lambda(lambda x: tf.reduce_mean(x, axis=1))(attention_output)\n",
        "\n",
        "output_layer = Dense(1, activation='sigmoid')(pooled)\n",
        "\n",
        "model = Model(inputs=input_layer, outputs=output_layer)\n",
        "model.compile(optimizer='adam', loss='binary_crossentropy')\n",
        "\n",
        "model.summary()\n"
      ],
      "metadata": {
        "colab": {
          "base_uri": "https://localhost:8080/",
          "height": 289
        },
        "id": "TEIYfDH9nDrF",
        "outputId": "45a53210-abab-49a1-b5eb-fabbcac9090f"
      },
      "execution_count": null,
      "outputs": [
        {
          "output_type": "display_data",
          "data": {
            "text/plain": [
              "\u001b[1mModel: \"functional\"\u001b[0m\n"
            ],
            "text/html": [
              "<pre style=\"white-space:pre;overflow-x:auto;line-height:normal;font-family:Menlo,'DejaVu Sans Mono',consolas,'Courier New',monospace\"><span style=\"font-weight: bold\">Model: \"functional\"</span>\n",
              "</pre>\n"
            ]
          },
          "metadata": {}
        },
        {
          "output_type": "display_data",
          "data": {
            "text/plain": [
              "┏━━━━━━━━━━━━━━━━━━━━━━━━━━━━━━━━━┳━━━━━━━━━━━━━━━━━━━━━━━━┳━━━━━━━━━━━━━━━┓\n",
              "┃\u001b[1m \u001b[0m\u001b[1mLayer (type)                   \u001b[0m\u001b[1m \u001b[0m┃\u001b[1m \u001b[0m\u001b[1mOutput Shape          \u001b[0m\u001b[1m \u001b[0m┃\u001b[1m \u001b[0m\u001b[1m      Param #\u001b[0m\u001b[1m \u001b[0m┃\n",
              "┡━━━━━━━━━━━━━━━━━━━━━━━━━━━━━━━━━╇━━━━━━━━━━━━━━━━━━━━━━━━╇━━━━━━━━━━━━━━━┩\n",
              "│ input_layer (\u001b[38;5;33mInputLayer\u001b[0m)        │ (\u001b[38;5;45mNone\u001b[0m, \u001b[38;5;34m621\u001b[0m)            │             \u001b[38;5;34m0\u001b[0m │\n",
              "├─────────────────────────────────┼────────────────────────┼───────────────┤\n",
              "│ embedding (\u001b[38;5;33mEmbedding\u001b[0m)           │ (\u001b[38;5;45mNone\u001b[0m, \u001b[38;5;34m621\u001b[0m, \u001b[38;5;34m64\u001b[0m)        │       \u001b[38;5;34m393,984\u001b[0m │\n",
              "├─────────────────────────────────┼────────────────────────┼───────────────┤\n",
              "│ self_attention (\u001b[38;5;33mSelfAttention\u001b[0m)  │ (\u001b[38;5;45mNone\u001b[0m, \u001b[38;5;34m621\u001b[0m, \u001b[38;5;34m64\u001b[0m)        │        \u001b[38;5;34m12,480\u001b[0m │\n",
              "├─────────────────────────────────┼────────────────────────┼───────────────┤\n",
              "│ lambda (\u001b[38;5;33mLambda\u001b[0m)                 │ (\u001b[38;5;45mNone\u001b[0m, \u001b[38;5;34m64\u001b[0m)             │             \u001b[38;5;34m0\u001b[0m │\n",
              "├─────────────────────────────────┼────────────────────────┼───────────────┤\n",
              "│ dense_3 (\u001b[38;5;33mDense\u001b[0m)                 │ (\u001b[38;5;45mNone\u001b[0m, \u001b[38;5;34m1\u001b[0m)              │            \u001b[38;5;34m65\u001b[0m │\n",
              "└─────────────────────────────────┴────────────────────────┴───────────────┘\n"
            ],
            "text/html": [
              "<pre style=\"white-space:pre;overflow-x:auto;line-height:normal;font-family:Menlo,'DejaVu Sans Mono',consolas,'Courier New',monospace\">┏━━━━━━━━━━━━━━━━━━━━━━━━━━━━━━━━━┳━━━━━━━━━━━━━━━━━━━━━━━━┳━━━━━━━━━━━━━━━┓\n",
              "┃<span style=\"font-weight: bold\"> Layer (type)                    </span>┃<span style=\"font-weight: bold\"> Output Shape           </span>┃<span style=\"font-weight: bold\">       Param # </span>┃\n",
              "┡━━━━━━━━━━━━━━━━━━━━━━━━━━━━━━━━━╇━━━━━━━━━━━━━━━━━━━━━━━━╇━━━━━━━━━━━━━━━┩\n",
              "│ input_layer (<span style=\"color: #0087ff; text-decoration-color: #0087ff\">InputLayer</span>)        │ (<span style=\"color: #00d7ff; text-decoration-color: #00d7ff\">None</span>, <span style=\"color: #00af00; text-decoration-color: #00af00\">621</span>)            │             <span style=\"color: #00af00; text-decoration-color: #00af00\">0</span> │\n",
              "├─────────────────────────────────┼────────────────────────┼───────────────┤\n",
              "│ embedding (<span style=\"color: #0087ff; text-decoration-color: #0087ff\">Embedding</span>)           │ (<span style=\"color: #00d7ff; text-decoration-color: #00d7ff\">None</span>, <span style=\"color: #00af00; text-decoration-color: #00af00\">621</span>, <span style=\"color: #00af00; text-decoration-color: #00af00\">64</span>)        │       <span style=\"color: #00af00; text-decoration-color: #00af00\">393,984</span> │\n",
              "├─────────────────────────────────┼────────────────────────┼───────────────┤\n",
              "│ self_attention (<span style=\"color: #0087ff; text-decoration-color: #0087ff\">SelfAttention</span>)  │ (<span style=\"color: #00d7ff; text-decoration-color: #00d7ff\">None</span>, <span style=\"color: #00af00; text-decoration-color: #00af00\">621</span>, <span style=\"color: #00af00; text-decoration-color: #00af00\">64</span>)        │        <span style=\"color: #00af00; text-decoration-color: #00af00\">12,480</span> │\n",
              "├─────────────────────────────────┼────────────────────────┼───────────────┤\n",
              "│ lambda (<span style=\"color: #0087ff; text-decoration-color: #0087ff\">Lambda</span>)                 │ (<span style=\"color: #00d7ff; text-decoration-color: #00d7ff\">None</span>, <span style=\"color: #00af00; text-decoration-color: #00af00\">64</span>)             │             <span style=\"color: #00af00; text-decoration-color: #00af00\">0</span> │\n",
              "├─────────────────────────────────┼────────────────────────┼───────────────┤\n",
              "│ dense_3 (<span style=\"color: #0087ff; text-decoration-color: #0087ff\">Dense</span>)                 │ (<span style=\"color: #00d7ff; text-decoration-color: #00d7ff\">None</span>, <span style=\"color: #00af00; text-decoration-color: #00af00\">1</span>)              │            <span style=\"color: #00af00; text-decoration-color: #00af00\">65</span> │\n",
              "└─────────────────────────────────┴────────────────────────┴───────────────┘\n",
              "</pre>\n"
            ]
          },
          "metadata": {}
        },
        {
          "output_type": "display_data",
          "data": {
            "text/plain": [
              "\u001b[1m Total params: \u001b[0m\u001b[38;5;34m406,529\u001b[0m (1.55 MB)\n"
            ],
            "text/html": [
              "<pre style=\"white-space:pre;overflow-x:auto;line-height:normal;font-family:Menlo,'DejaVu Sans Mono',consolas,'Courier New',monospace\"><span style=\"font-weight: bold\"> Total params: </span><span style=\"color: #00af00; text-decoration-color: #00af00\">406,529</span> (1.55 MB)\n",
              "</pre>\n"
            ]
          },
          "metadata": {}
        },
        {
          "output_type": "display_data",
          "data": {
            "text/plain": [
              "\u001b[1m Trainable params: \u001b[0m\u001b[38;5;34m406,529\u001b[0m (1.55 MB)\n"
            ],
            "text/html": [
              "<pre style=\"white-space:pre;overflow-x:auto;line-height:normal;font-family:Menlo,'DejaVu Sans Mono',consolas,'Courier New',monospace\"><span style=\"font-weight: bold\"> Trainable params: </span><span style=\"color: #00af00; text-decoration-color: #00af00\">406,529</span> (1.55 MB)\n",
              "</pre>\n"
            ]
          },
          "metadata": {}
        },
        {
          "output_type": "display_data",
          "data": {
            "text/plain": [
              "\u001b[1m Non-trainable params: \u001b[0m\u001b[38;5;34m0\u001b[0m (0.00 B)\n"
            ],
            "text/html": [
              "<pre style=\"white-space:pre;overflow-x:auto;line-height:normal;font-family:Menlo,'DejaVu Sans Mono',consolas,'Courier New',monospace\"><span style=\"font-weight: bold\"> Non-trainable params: </span><span style=\"color: #00af00; text-decoration-color: #00af00\">0</span> (0.00 B)\n",
              "</pre>\n"
            ]
          },
          "metadata": {}
        }
      ]
    },
    {
      "cell_type": "code",
      "source": [
        "import numpy as np\n",
        "import tensorflow as tf\n",
        "from tensorflow.keras.layers import Layer, Input, Embedding, Dense\n",
        "from tensorflow.keras.models import Model\n",
        "import matplotlib.pyplot as plt\n",
        "import seaborn as sns\n",
        "\n",
        "MAX_LEN = 20\n",
        "\n",
        "# 1. Self-Attention Layer (standalone, returns weights)\n",
        "class SelfAttention(Layer):\n",
        "    def __init__(self, hidden_size, return_attention=False):\n",
        "        super(SelfAttention, self).__init__()\n",
        "        self.hidden_size = hidden_size\n",
        "        self.return_attention = return_attention\n",
        "\n",
        "    def build(self, input_shape):\n",
        "        self.W_q = self.add_weight(shape=(input_shape[-1], self.hidden_size), initializer='glorot_uniform', trainable=True)\n",
        "        self.W_k = self.add_weight(shape=(input_shape[-1], self.hidden_size), initializer='glorot_uniform', trainable=True)\n",
        "        self.W_v = self.add_weight(shape=(input_shape[-1], self.hidden_size), initializer='glorot_uniform', trainable=True)\n",
        "\n",
        "    def call(self, inputs):\n",
        "        Q = tf.matmul(inputs, self.W_q)\n",
        "        K = tf.matmul(inputs, self.W_k)\n",
        "        V = tf.matmul(inputs, self.W_v)\n",
        "\n",
        "        scores = tf.matmul(Q, K, transpose_b=True) / tf.math.sqrt(tf.cast(self.hidden_size, tf.float32))\n",
        "        attention_weights = tf.nn.softmax(scores, axis=-1)\n",
        "        context = tf.matmul(attention_weights, V)\n",
        "\n",
        "        if self.return_attention:\n",
        "            return context, attention_weights\n",
        "        return context\n",
        "\n",
        "# 2. Model Setup\n",
        "vocab_size = 1000\n",
        "embedding_dim = 64\n",
        "seq_len = 20\n",
        "\n",
        "inputs = Input(shape=(seq_len,))\n",
        "embedding = Embedding(vocab_size, embedding_dim)(inputs)\n",
        "attention_layer = SelfAttention(hidden_size=64, return_attention=True)\n",
        "attention_output, attention_weights = attention_layer(embedding)\n",
        "\n",
        "from tensorflow.keras.layers import Lambda\n",
        "\n",
        "pooled = Lambda(lambda x: tf.reduce_mean(x, axis=1))(attention_output)\n",
        "output = Dense(1, activation='sigmoid')(pooled)\n",
        "\n",
        "\n",
        "model = Model(inputs=inputs, outputs=[output, attention_weights])\n",
        "model.compile(optimizer='adam', loss='binary_crossentropy')\n",
        "\n",
        "# 3. Dummy data\n",
        "sample_input = np.random.randint(0, vocab_size, size=(1, seq_len))\n",
        "_ , attention = model.predict(sample_input)\n",
        "\n",
        "# 4. Attention Visualization\n",
        "def plot_attention(attention_weights, input_tokens):\n",
        "    plt.figure(figsize=(10, 8))\n",
        "    sns.heatmap(attention_weights, xticklabels=input_tokens, yticklabels=input_tokens, cmap='viridis')\n",
        "    plt.title(\"Self-Attention Weights\")\n",
        "    plt.xlabel(\"Key\")\n",
        "    plt.ylabel(\"Query\")\n",
        "    plt.show()\n",
        "\n",
        "input_tokens = [f\"tok_{i}\" for i in range(seq_len)]\n",
        "plot_attention(attention[0], input_tokens)\n"
      ],
      "metadata": {
        "colab": {
          "base_uri": "https://localhost:8080/",
          "height": 768
        },
        "id": "eJoqJvj8qP9R",
        "outputId": "cd946647-985b-4cc8-b16f-4fb332814bc9"
      },
      "execution_count": null,
      "outputs": [
        {
          "output_type": "stream",
          "name": "stdout",
          "text": [
            "\u001b[1m1/1\u001b[0m \u001b[32m━━━━━━━━━━━━━━━━━━━━\u001b[0m\u001b[37m\u001b[0m \u001b[1m0s\u001b[0m 221ms/step\n"
          ]
        },
        {
          "output_type": "display_data",
          "data": {
            "text/plain": [
              "<Figure size 1000x800 with 2 Axes>"
            ],
            "image/png": "[encoded data removed]"
          },
          "metadata": {}
        }
      ]
    },
    {
      "cell_type": "code",
      "source": [
        "from tensorflow.keras.preprocessing.text import Tokenizer\n",
        "from tensorflow.keras.preprocessing.sequence import pad_sequences\n",
        "from sklearn.preprocessing import LabelEncoder\n",
        "import re\n",
        "\n",
        "def parse_act(act_str):\n",
        "    # Add commas between numbers if missing\n",
        "    act_str = re.sub(r'(?<=\\d)\\s+(?=\\d)', ', ', act_str.strip())\n",
        "    return eval(act_str)  # now it's safe\n",
        "\n",
        "\n",
        "# 1. Tokenize dialogs\n",
        "dialogs = train_df['dialog'].apply(lambda x: ' '.join(eval(x)))  # Convert list-like string to proper string\n",
        "tokenizer = Tokenizer(oov_token='<OOV>')\n",
        "tokenizer.fit_on_texts(dialogs)\n",
        "sequences = tokenizer.texts_to_sequences(dialogs)\n",
        "\n",
        "# 2. Pad sequences to fixed length\n",
        "MAX_LEN = 50\n",
        "padded = pad_sequences(sequences, maxlen=MAX_LEN, padding='post', truncating='post')\n",
        "\n",
        "# 3. Encode labels (acts or emotions)\n",
        "label_encoder = LabelEncoder()\n",
        "# Apply to column and get last act\n",
        "labels = train_df['act'].apply(lambda x: parse_act(x)[-1])# using last act in sequence\n",
        "\n",
        "import re\n",
        "\n",
        "# Clean and convert 'act' column into actual lists of integers\n",
        "def parse_act_column(act_str):\n",
        "    act_str = act_str.strip(\"[]\")             # Remove brackets\n",
        "    act_list = re.split(r'\\s+', act_str)      # Split by whitespace\n",
        "    return list(map(int, act_list))           # Convert to integers\n",
        "\n",
        "# Apply the function to get list of acts\n",
        "train_acts = train_df['act'].apply(parse_act_column)\n",
        "\n",
        "# Get the last act from each list\n",
        "last_acts = train_acts.apply(lambda x: x[-1])\n",
        "\n",
        "# Fit the LabelEncoder\n",
        "from sklearn.preprocessing import LabelEncoder\n",
        "label_encoder = LabelEncoder()\n",
        "labels = label_encoder.fit_transform(last_acts)"
      ],
      "metadata": {
        "id": "U5nEJbWMxaNX"
      },
      "execution_count": null,
      "outputs": []
    },
    {
      "cell_type": "code",
      "source": [
        "from tensorflow.keras.models import Model\n",
        "from tensorflow.keras.layers import Input, Embedding, Dense, Lambda\n",
        "import tensorflow as tf\n",
        "\n",
        "class SelfAttention(tf.keras.layers.Layer):\n",
        "    def __init__(self, units):\n",
        "        super(SelfAttention, self).__init__()\n",
        "        self.W1 = Dense(units)\n",
        "        self.W2 = Dense(units)\n",
        "        self.V = Dense(1)\n",
        "\n",
        "    def call(self, values):\n",
        "        score = tf.nn.tanh(self.W1(values) + self.W2(values))\n",
        "        attention_weights = tf.nn.softmax(self.V(score), axis=1)\n",
        "        context_vector = attention_weights * values\n",
        "        context_vector = tf.reduce_sum(context_vector, axis=1)\n",
        "        return context_vector\n",
        "\n",
        "# Build model\n",
        "input_layer = Input(shape=(MAX_LEN,))\n",
        "embedding_layer = Embedding(input_dim=len(tokenizer.word_index)+1, output_dim=64)(input_layer)\n",
        "attention_output = SelfAttention(64)(embedding_layer)\n",
        "output_layer = Dense(len(label_encoder.classes_), activation='softmax')(attention_output)\n",
        "\n",
        "model = Model(inputs=input_layer, outputs=output_layer)\n",
        "model.compile(optimizer='adam', loss='sparse_categorical_crossentropy', metrics=['accuracy'])\n",
        "model.summary()\n"
      ],
      "metadata": {
        "colab": {
          "base_uri": "https://localhost:8080/",
          "height": 273
        },
        "id": "xJnBKvwDxWvC",
        "outputId": "bc8c7551-ea9c-49a8-b421-d6ee1bc9a4d5"
      },
      "execution_count": null,
      "outputs": [
        {
          "output_type": "display_data",
          "data": {
            "text/plain": [
              "\u001b[1mModel: \"functional_2\"\u001b[0m\n"
            ],
            "text/html": [
              "<pre style=\"white-space:pre;overflow-x:auto;line-height:normal;font-family:Menlo,'DejaVu Sans Mono',consolas,'Courier New',monospace\"><span style=\"font-weight: bold\">Model: \"functional_2\"</span>\n",
              "</pre>\n"
            ]
          },
          "metadata": {}
        },
        {
          "output_type": "display_data",
          "data": {
            "text/plain": [
              "┏━━━━━━━━━━━━━━━━━━━━━━━━━━━━━━━━━┳━━━━━━━━━━━━━━━━━━━━━━━━┳━━━━━━━━━━━━━━━┓\n",
              "┃\u001b[1m \u001b[0m\u001b[1mLayer (type)                   \u001b[0m\u001b[1m \u001b[0m┃\u001b[1m \u001b[0m\u001b[1mOutput Shape          \u001b[0m\u001b[1m \u001b[0m┃\u001b[1m \u001b[0m\u001b[1m      Param #\u001b[0m\u001b[1m \u001b[0m┃\n",
              "┡━━━━━━━━━━━━━━━━━━━━━━━━━━━━━━━━━╇━━━━━━━━━━━━━━━━━━━━━━━━╇━━━━━━━━━━━━━━━┩\n",
              "│ input_layer_3 (\u001b[38;5;33mInputLayer\u001b[0m)      │ (\u001b[38;5;45mNone\u001b[0m, \u001b[38;5;34m50\u001b[0m)             │             \u001b[38;5;34m0\u001b[0m │\n",
              "├─────────────────────────────────┼────────────────────────┼───────────────┤\n",
              "│ embedding_3 (\u001b[38;5;33mEmbedding\u001b[0m)         │ (\u001b[38;5;45mNone\u001b[0m, \u001b[38;5;34m50\u001b[0m, \u001b[38;5;34m64\u001b[0m)         │     \u001b[38;5;34m1,164,160\u001b[0m │\n",
              "├─────────────────────────────────┼────────────────────────┼───────────────┤\n",
              "│ self_attention_3                │ (\u001b[38;5;45mNone\u001b[0m, \u001b[38;5;34m64\u001b[0m)             │         \u001b[38;5;34m8,385\u001b[0m │\n",
              "│ (\u001b[38;5;33mSelfAttention\u001b[0m)                 │                        │               │\n",
              "├─────────────────────────────────┼────────────────────────┼───────────────┤\n",
              "│ dense_11 (\u001b[38;5;33mDense\u001b[0m)                │ (\u001b[38;5;45mNone\u001b[0m, \u001b[38;5;34m4\u001b[0m)              │           \u001b[38;5;34m260\u001b[0m │\n",
              "└─────────────────────────────────┴────────────────────────┴───────────────┘\n"
            ],
            "text/html": [
              "<pre style=\"white-space:pre;overflow-x:auto;line-height:normal;font-family:Menlo,'DejaVu Sans Mono',consolas,'Courier New',monospace\">┏━━━━━━━━━━━━━━━━━━━━━━━━━━━━━━━━━┳━━━━━━━━━━━━━━━━━━━━━━━━┳━━━━━━━━━━━━━━━┓\n",
              "┃<span style=\"font-weight: bold\"> Layer (type)                    </span>┃<span style=\"font-weight: bold\"> Output Shape           </span>┃<span style=\"font-weight: bold\">       Param # </span>┃\n",
              "┡━━━━━━━━━━━━━━━━━━━━━━━━━━━━━━━━━╇━━━━━━━━━━━━━━━━━━━━━━━━╇━━━━━━━━━━━━━━━┩\n",
              "│ input_layer_3 (<span style=\"color: #0087ff; text-decoration-color: #0087ff\">InputLayer</span>)      │ (<span style=\"color: #00d7ff; text-decoration-color: #00d7ff\">None</span>, <span style=\"color: #00af00; text-decoration-color: #00af00\">50</span>)             │             <span style=\"color: #00af00; text-decoration-color: #00af00\">0</span> │\n",
              "├─────────────────────────────────┼────────────────────────┼───────────────┤\n",
              "│ embedding_3 (<span style=\"color: #0087ff; text-decoration-color: #0087ff\">Embedding</span>)         │ (<span style=\"color: #00d7ff; text-decoration-color: #00d7ff\">None</span>, <span style=\"color: #00af00; text-decoration-color: #00af00\">50</span>, <span style=\"color: #00af00; text-decoration-color: #00af00\">64</span>)         │     <span style=\"color: #00af00; text-decoration-color: #00af00\">1,164,160</span> │\n",
              "├─────────────────────────────────┼────────────────────────┼───────────────┤\n",
              "│ self_attention_3                │ (<span style=\"color: #00d7ff; text-decoration-color: #00d7ff\">None</span>, <span style=\"color: #00af00; text-decoration-color: #00af00\">64</span>)             │         <span style=\"color: #00af00; text-decoration-color: #00af00\">8,385</span> │\n",
              "│ (<span style=\"color: #0087ff; text-decoration-color: #0087ff\">SelfAttention</span>)                 │                        │               │\n",
              "├─────────────────────────────────┼────────────────────────┼───────────────┤\n",
              "│ dense_11 (<span style=\"color: #0087ff; text-decoration-color: #0087ff\">Dense</span>)                │ (<span style=\"color: #00d7ff; text-decoration-color: #00d7ff\">None</span>, <span style=\"color: #00af00; text-decoration-color: #00af00\">4</span>)              │           <span style=\"color: #00af00; text-decoration-color: #00af00\">260</span> │\n",
              "└─────────────────────────────────┴────────────────────────┴───────────────┘\n",
              "</pre>\n"
            ]
          },
          "metadata": {}
        },
        {
          "output_type": "display_data",
          "data": {
            "text/plain": [
              "\u001b[1m Total params: \u001b[0m\u001b[38;5;34m1,172,805\u001b[0m (4.47 MB)\n"
            ],
            "text/html": [
              "<pre style=\"white-space:pre;overflow-x:auto;line-height:normal;font-family:Menlo,'DejaVu Sans Mono',consolas,'Courier New',monospace\"><span style=\"font-weight: bold\"> Total params: </span><span style=\"color: #00af00; text-decoration-color: #00af00\">1,172,805</span> (4.47 MB)\n",
              "</pre>\n"
            ]
          },
          "metadata": {}
        },
        {
          "output_type": "display_data",
          "data": {
            "text/plain": [
              "\u001b[1m Trainable params: \u001b[0m\u001b[38;5;34m1,172,805\u001b[0m (4.47 MB)\n"
            ],
            "text/html": [
              "<pre style=\"white-space:pre;overflow-x:auto;line-height:normal;font-family:Menlo,'DejaVu Sans Mono',consolas,'Courier New',monospace\"><span style=\"font-weight: bold\"> Trainable params: </span><span style=\"color: #00af00; text-decoration-color: #00af00\">1,172,805</span> (4.47 MB)\n",
              "</pre>\n"
            ]
          },
          "metadata": {}
        },
        {
          "output_type": "display_data",
          "data": {
            "text/plain": [
              "\u001b[1m Non-trainable params: \u001b[0m\u001b[38;5;34m0\u001b[0m (0.00 B)\n"
            ],
            "text/html": [
              "<pre style=\"white-space:pre;overflow-x:auto;line-height:normal;font-family:Menlo,'DejaVu Sans Mono',consolas,'Courier New',monospace\"><span style=\"font-weight: bold\"> Non-trainable params: </span><span style=\"color: #00af00; text-decoration-color: #00af00\">0</span> (0.00 B)\n",
              "</pre>\n"
            ]
          },
          "metadata": {}
        }
      ]
    },
    {
      "cell_type": "markdown",
      "source": [
        "**Inference Speed**"
      ],
      "metadata": {
        "id": "OATFv1Fo27kc"
      }
    },
    {
      "cell_type": "code",
      "source": [
        "import time\n",
        "\n",
        "start = time.time()\n",
        "history = model.fit(padded, labels, epochs=5, batch_size=32)\n",
        "training_time = time.time() - start\n",
        "print(f\"Training time: {training_time:.2f} seconds\")"
      ],
      "metadata": {
        "colab": {
          "base_uri": "https://localhost:8080/"
        },
        "id": "JUFknxeoxQSO",
        "outputId": "1b71337f-9bed-44c9-b71f-baba5b1b80f7"
      },
      "execution_count": null,
      "outputs": [
        {
          "output_type": "stream",
          "name": "stdout",
          "text": [
            "Epoch 1/5\n",
            "\u001b[1m348/348\u001b[0m \u001b[32m━━━━━━━━━━━━━━━━━━━━\u001b[0m\u001b[37m\u001b[0m \u001b[1m6s\u001b[0m 18ms/step - accuracy: 0.7775 - loss: 0.6274\n",
            "Epoch 2/5\n",
            "\u001b[1m348/348\u001b[0m \u001b[32m━━━━━━━━━━━━━━━━━━━━\u001b[0m\u001b[37m\u001b[0m \u001b[1m10s\u001b[0m 30ms/step - accuracy: 0.8030 - loss: 0.5584\n",
            "Epoch 3/5\n",
            "\u001b[1m348/348\u001b[0m \u001b[32m━━━━━━━━━━━━━━━━━━━━\u001b[0m\u001b[37m\u001b[0m \u001b[1m16s\u001b[0m 17ms/step - accuracy: 0.8168 - loss: 0.4928\n",
            "Epoch 4/5\n",
            "\u001b[1m348/348\u001b[0m \u001b[32m━━━━━━━━━━━━━━━━━━━━\u001b[0m\u001b[37m\u001b[0m \u001b[1m6s\u001b[0m 18ms/step - accuracy: 0.8272 - loss: 0.4609\n",
            "Epoch 5/5\n",
            "\u001b[1m348/348\u001b[0m \u001b[32m━━━━━━━━━━━━━━━━━━━━\u001b[0m\u001b[37m\u001b[0m \u001b[1m9s\u001b[0m 26ms/step - accuracy: 0.8408 - loss: 0.4065\n",
            "Training time: 48.34 seconds\n"
          ]
        }
      ]
    },
    {
      "cell_type": "code",
      "source": [
        "\n",
        "from tensorflow.keras.utils import to_categorical\n",
        "# Prepare test data\n",
        "X_test = tokenizer.texts_to_sequences(test_df['dialog'])  # Convert dialogs to sequences\n",
        "X_test = pad_sequences(X_test, padding='post', maxlen=20)  # Pad the sequences (same as training)\n",
        "\n",
        "# Label encode the target variable (dialog acts)\n",
        "y_test_acts = test_df['act'].apply(lambda x: parse_act(x)[-1])\n",
        "y_test = label_encoder.transform(y_test_acts)  # Encode labels using the label_encoder\n",
        "\n",
        "# One-hot encode the labels if needed (for categorical cross-entropy loss)\n",
        "y_test_one_hot = to_categorical(y_test, num_classes=len(label_encoder.classes_))\n",
        "\n",
        "# Now you can make predictions and calculate accuracy\n",
        "y_pred_proba = model.predict(X_test)\n",
        "y_pred = np.argmax(y_pred_proba, axis=1)\n",
        "\n",
        "# Accuracy score\n",
        "from sklearn.metrics import accuracy_score\n",
        "accuracy = accuracy_score(y_test, y_pred)\n",
        "print(f\"Accuracy: {accuracy:.4f}\")\n"
      ],
      "metadata": {
        "colab": {
          "base_uri": "https://localhost:8080/"
        },
        "id": "2x8nssWSwQbk",
        "outputId": "8d4e1047-83c1-41c1-d600-07b3fe5e68aa"
      },
      "execution_count": null,
      "outputs": [
        {
          "output_type": "stream",
          "name": "stdout",
          "text": [
            "\u001b[1m32/32\u001b[0m \u001b[32m━━━━━━━━━━━━━━━━━━━━\u001b[0m\u001b[37m\u001b[0m \u001b[1m0s\u001b[0m 5ms/step\n",
            "Accuracy: 0.5800\n"
          ]
        }
      ]
    },
    {
      "cell_type": "code",
      "source": [
        "from nltk.translate.bleu_score import sentence_bleu, SmoothingFunction\n",
        "\n",
        "# Example: reference and candidate sentences\n",
        "references = [[\"hello\", \"how\", \"are\", \"you\"]]  # Reference response (ground truth)\n",
        "candidates = [[\"hi\", \"how\", \"you\"]]  # Predicted response\n",
        "\n",
        "# Apply smoothing to BLEU score\n",
        "smooth_fn = SmoothingFunction().method1  # Smoothing method 1 (there are other methods)\n",
        "bleu = sentence_bleu(references, candidates[0], smoothing_function=smooth_fn)\n",
        "print(f\"BLEU score with smoothing: {bleu:.4f}\")\n"
      ],
      "metadata": {
        "colab": {
          "base_uri": "https://localhost:8080/"
        },
        "id": "IgWxcKi33qSD",
        "outputId": "393e288a-a533-4270-e61f-8bb975f13638"
      },
      "execution_count": null,
      "outputs": [
        {
          "output_type": "stream",
          "name": "stdout",
          "text": [
            "BLEU score with smoothing: 0.0968\n"
          ]
        }
      ]
    },
    {
      "cell_type": "code",
      "source": [
        "!pip install rouge"
      ],
      "metadata": {
        "colab": {
          "base_uri": "https://localhost:8080/"
        },
        "id": "-lb2Iqw_3_pj",
        "outputId": "4802d701-a9e7-46ad-e9d0-1d2859c59f4b"
      },
      "execution_count": null,
      "outputs": [
        {
          "output_type": "stream",
          "name": "stdout",
          "text": [
            "Collecting rouge\n",
            "  Downloading rouge-1.0.1-py3-none-any.whl.metadata (4.1 kB)\n",
            "Requirement already satisfied: six in /usr/local/lib/python3.11/dist-packages (from rouge) (1.17.0)\n",
            "Downloading rouge-1.0.1-py3-none-any.whl (13 kB)\n",
            "Installing collected packages: rouge\n",
            "Successfully installed rouge-1.0.1\n"
          ]
        }
      ]
    },
    {
      "cell_type": "code",
      "source": [
        "from rouge import Rouge\n",
        "\n",
        "# ROUGE score\n",
        "rouge = Rouge()\n",
        "scores = rouge.get_scores([' '.join(candidates[0])], [' '.join(references[0])])\n",
        "print(f\"ROUGE score: {scores[0]}\")\n"
      ],
      "metadata": {
        "colab": {
          "base_uri": "https://localhost:8080/"
        },
        "id": "Nq7YsMQ-3r5B",
        "outputId": "d1b6e276-9267-4f6b-ecfd-0b3532456048"
      },
      "execution_count": null,
      "outputs": [
        {
          "output_type": "stream",
          "name": "stdout",
          "text": [
            "ROUGE score: {'rouge-1': {'r': 0.5, 'p': 0.6666666666666666, 'f': 0.5714285665306124}, 'rouge-2': {'r': 0.0, 'p': 0.0, 'f': 0.0}, 'rouge-l': {'r': 0.5, 'p': 0.6666666666666666, 'f': 0.5714285665306124}}\n"
          ]
        }
      ]
    },
    {
      "cell_type": "code",
      "source": [
        "import nltk\n",
        "nltk.download('wordnet')\n"
      ],
      "metadata": {
        "colab": {
          "base_uri": "https://localhost:8080/"
        },
        "id": "2_8GKMnE4iOI",
        "outputId": "12d40d11-a394-46b4-f5ec-bc800b9310b8"
      },
      "execution_count": null,
      "outputs": [
        {
          "output_type": "stream",
          "name": "stderr",
          "text": [
            "[nltk_data] Downloading package wordnet to /root/nltk_data...\n"
          ]
        },
        {
          "output_type": "execute_result",
          "data": {
            "text/plain": [
              "True"
            ]
          },
          "metadata": {},
          "execution_count": 46
        }
      ]
    },
    {
      "cell_type": "code",
      "source": [
        "import nltk\n",
        "nltk.download('wordnet')\n",
        "\n",
        "from nltk.translate import meteor_score\n",
        "\n",
        "# Example: reference and candidate sentences (tokenized)\n",
        "references = [[\"hello\", \"how\", \"are\", \"you\"]]  # Reference response (ground truth)\n",
        "candidates = [[\"hi\", \"how\", \"you\"]]  # Predicted response\n",
        "\n",
        "# METEOR score\n",
        "meteor = meteor_score.single_meteor_score(references[0], candidates[0])\n",
        "print(f\"METEOR score: {meteor:.4f}\")\n"
      ],
      "metadata": {
        "colab": {
          "base_uri": "https://localhost:8080/"
        },
        "id": "Z4xdBkyv3rjf",
        "outputId": "7daceebe-bde3-4036-ae38-7b91bdf9026a"
      },
      "execution_count": null,
      "outputs": [
        {
          "output_type": "stream",
          "name": "stderr",
          "text": [
            "[nltk_data] Downloading package wordnet to /root/nltk_data...\n",
            "[nltk_data]   Package wordnet is already up-to-date!\n"
          ]
        },
        {
          "output_type": "stream",
          "name": "stdout",
          "text": [
            "METEOR score: 0.6553\n"
          ]
        }
      ]
    },
    {
      "cell_type": "code",
      "source": [
        "import matplotlib.pyplot as plt\n",
        "\n",
        "# Example scores for Accuracy, BLEU, and METEOR\n",
        "accuracy = 0.5800\n",
        "bleu = 0.0968\n",
        "meteor = 0.6553\n",
        "\n",
        "# Create a list of the metrics and their values\n",
        "metrics = ['Accuracy', 'BLEU', 'METEOR']\n",
        "scores = [accuracy, bleu, meteor]\n",
        "\n",
        "# Plotting the comparison graph\n",
        "plt.figure(figsize=(8, 6))\n",
        "plt.bar(metrics, scores, color=['blue', 'green', 'orange'])\n",
        "\n",
        "# Adding labels and title\n",
        "plt.xlabel('Metrics')\n",
        "plt.ylabel('Scores')\n",
        "plt.title('Comparison of Model Evaluation Metrics')\n",
        "\n",
        "# Display the plot\n",
        "plt.show()\n"
      ],
      "metadata": {
        "colab": {
          "base_uri": "https://localhost:8080/",
          "height": 564
        },
        "id": "x3EoEpdM47ag",
        "outputId": "ba0f10b1-abdf-43a3-af4e-8ebac41d21cb"
      },
      "execution_count": null,
      "outputs": [
        {
          "output_type": "display_data",
          "data": {
            "text/plain": [
              "<Figure size 800x600 with 1 Axes>"
            ],
            "image/png": "[encoded data removed]"
          },
          "metadata": {}
        }
      ]
    },
    {
      "cell_type": "code",
      "source": [
        "import time\n",
        "import numpy as np\n",
        "\n",
        "# Assume X_test is your test data and model is already loaded/trained\n",
        "# You can also select a subset like X_test[:100] if X_test is large\n",
        "\n",
        "num_samples = 100  # Number of test samples to measure\n",
        "X_sample = X_test[:num_samples]\n",
        "\n",
        "# Warm up the model (optional but recommended for consistent results)\n",
        "_ = model.predict(X_sample[:1])\n",
        "\n",
        "# Start timing\n",
        "start_time = time.time()\n",
        "\n",
        "# Run inference\n",
        "_ = model.predict(X_sample, batch_size=1, verbose=0)\n",
        "\n",
        "# End timing\n",
        "end_time = time.time()\n",
        "\n",
        "# Calculate average time per sample\n",
        "total_time = end_time - start_time\n",
        "avg_inference_time = total_time / num_samples\n",
        "\n",
        "print(f\"Inference time for {num_samples} samples: {total_time:.4f} seconds\")\n",
        "print(f\"Average inference time per sample: {avg_inference_time:.6f} seconds\")\n"
      ],
      "metadata": {
        "id": "W4e_9jSU_ltx",
        "outputId": "e4d64267-7b2c-40ce-e388-4a257cb8cd03",
        "colab": {
          "base_uri": "https://localhost:8080/"
        }
      },
      "execution_count": null,
      "outputs": [
        {
          "output_type": "stream",
          "name": "stdout",
          "text": [
            "\u001b[1m1/1\u001b[0m \u001b[32m━━━━━━━━━━━━━━━━━━━━\u001b[0m\u001b[37m\u001b[0m \u001b[1m0s\u001b[0m 91ms/step\n",
            "Inference time for 100 samples: 1.5274 seconds\n",
            "Average inference time per sample: 0.015274 seconds\n"
          ]
        }
      ]
    }
  ]
}