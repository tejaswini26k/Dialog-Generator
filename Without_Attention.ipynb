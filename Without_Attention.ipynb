{
  "nbformat": 4,
  "nbformat_minor": 0,
  "metadata": {
    "colab": {
      "provenance": [],
      "gpuType": "T4"
    },
    "kernelspec": {
      "name": "python3",
      "display_name": "Python 3"
    },
    "language_info": {
      "name": "python"
    },
    "accelerator": "GPU"
  },
  "cells": [
    {
      "cell_type": "code",
      "source": [
        "import kagglehub\n",
        "\n",
        "# Download latest version\n",
        "path = kagglehub.dataset_download(\"thedevastator/dailydialog-multi-turn-dialog-with-intention-and\")\n",
        "\n",
        "print(\"Path to dataset files:\", path)"
      ],
      "metadata": {
        "id": "ZVoZgpjK6MzO",
        "colab": {
          "base_uri": "https://localhost:8080/"
        },
        "outputId": "20bfae8f-9330-40e6-9b3e-e3126b7fc367"
      },
      "execution_count": 1,
      "outputs": [
        {
          "output_type": "stream",
          "name": "stdout",
          "text": [
            "Path to dataset files: /kaggle/input/dailydialog-multi-turn-dialog-with-intention-and\n"
          ]
        }
      ]
    },
    {
      "cell_type": "code",
      "source": [
        "import pandas as pd\n",
        "import kagglehub\n",
        "import os\n",
        "\n",
        "# Step 1: Download the dataset\n",
        "dataset_path = kagglehub.dataset_download(\"thedevastator/dailydialog-multi-turn-dialog-with-intention-and\")\n",
        "print(\"Downloaded dataset path:\", dataset_path)\n",
        "\n",
        "# Step 2: Load CSV files manually using the path\n",
        "train_df = pd.read_csv(os.path.join(dataset_path, \"train.csv\"))\n",
        "valid_df = pd.read_csv(os.path.join(dataset_path, \"validation.csv\"))\n",
        "test_df = pd.read_csv(os.path.join(dataset_path, \"test.csv\"))\n",
        "\n",
        "# Step 3: Preview the data\n",
        "print(\"Train Sample:\")\n",
        "print(train_df.head())\n",
        "\n",
        "print(\"\\nValidation Sample:\")\n",
        "print(valid_df.head())\n",
        "\n",
        "print(\"\\nTest Sample:\")\n",
        "print(test_df.head())\n"
      ],
      "metadata": {
        "colab": {
          "base_uri": "https://localhost:8080/"
        },
        "id": "sWDRz9obKVe3",
        "outputId": "2702de3a-8a6d-4a2a-b511-5a5a138b47bc"
      },
      "execution_count": 2,
      "outputs": [
        {
          "output_type": "stream",
          "name": "stdout",
          "text": [
            "Downloaded dataset path: /kaggle/input/dailydialog-multi-turn-dialog-with-intention-and\n",
            "Train Sample:\n",
            "                                              dialog                    act  \\\n",
            "0  ['Say , Jim , how about going for a few beers ...  [3 4 2 2 2 3 4 1 3 4]   \n",
            "1  ['Can you do push-ups ? '\\n \" Of course I can ...          [2 1 2 2 1 1]   \n",
            "2  ['Can you study with the radio on ? '\\n ' No ,...            [2 1 2 1 1]   \n",
            "3  ['Are you all right ? '\\n ' I will be all righ...              [2 1 1 1]   \n",
            "4  ['Hey John , nice skates . Are they new ? '\\n ...    [2 1 2 1 1 2 1 3 4]   \n",
            "\n",
            "                 emotion  \n",
            "0  [0 0 0 0 0 0 4 4 4 4]  \n",
            "1          [0 0 6 0 0 0]  \n",
            "2            [0 0 0 0 0]  \n",
            "3              [0 0 0 0]  \n",
            "4    [0 0 0 0 0 6 0 6 0]  \n",
            "\n",
            "Validation Sample:\n",
            "                                              dialog  \\\n",
            "0  ['Good morning , sir . Is there a bank near he...   \n",
            "1  ['Good afternoon . This is Michelle Li speakin...   \n",
            "2  ['What qualifications should a reporter have ?...   \n",
            "3  ['Hi , good morning , Miss ? what can I help y...   \n",
            "4  [\"Excuse me , ma'am . Can you tell me where th...   \n",
            "\n",
            "                                 act                            emotion  \n",
            "0                    [2 1 3 2 1 2 1]                    [0 0 0 0 0 0 0]  \n",
            "1              [2 1 1 1 1 2 3 2 3 4]              [0 0 0 0 0 0 0 0 0 0]  \n",
            "2                          [2 1 2 1]                          [0 0 0 0]  \n",
            "3  [2 3 2 2 1 2 1 2 1 1 1 3 2 1 3 4]  [0 0 0 0 0 0 0 0 0 0 0 0 0 0 0 4]  \n",
            "4                  [3 4 2 1 2 1 1 1]                  [0 0 0 0 0 0 4 4]  \n",
            "\n",
            "Test Sample:\n",
            "                                              dialog  \\\n",
            "0  ['Hey man , you wanna buy some weed ? ' ' Some...   \n",
            "1  ['The taxi drivers are on strike again . ' ' W...   \n",
            "2  [\"We've managed to reduce our energy consumpti...   \n",
            "3  ['Believe it or not , tea is the most popular ...   \n",
            "4  ['What are your personal weaknesses ? '\\n ' I ...   \n",
            "\n",
            "                             act                        emotion  \n",
            "0      [3 2 3 4 3 4 3 2 3 4 2 3]      [0 6 0 0 0 0 0 0 0 0 3 0]  \n",
            "1                      [1 2 1 1]                      [0 0 0 0]  \n",
            "2                [1 2 1 2 1 2 1]                [0 0 0 0 0 0 0]  \n",
            "3  [1 1 1 1 2 2 2 2 1 1 1 3 4 3]  [0 0 0 0 0 0 0 0 0 4 0 0 4 4]  \n",
            "4              [2 1 2 1 2 1 2 1]              [0 0 0 0 0 0 0 4]  \n"
          ]
        }
      ]
    },
    {
      "cell_type": "markdown",
      "source": [
        "**Data Cleaning and Tokenization**"
      ],
      "metadata": {
        "id": "MncYF5ngZT6U"
      }
    },
    {
      "cell_type": "code",
      "source": [
        "from tensorflow.keras.preprocessing.text import Tokenizer\n",
        "from tensorflow.keras.preprocessing.sequence import pad_sequences\n",
        "import numpy as np\n",
        "import re  # For regex-based cleaning\n",
        "\n",
        "# Extract dialogues\n",
        "dialogues = train_df[\"dialog\"].dropna().tolist()\n",
        "\n",
        "# Initialize lists for input-output pairs\n",
        "input_texts = []\n",
        "target_texts = []\n",
        "\n",
        "# Debugging: Print first few raw dialogues\n",
        "print(\"First few raw dialogues:\")\n",
        "print(dialogues[:3])\n",
        "\n",
        "for dialogue in dialogues:\n",
        "    # Step 1: Remove outer brackets and quotes\n",
        "    dialogue_clean = re.sub(r'^\\[[\\'\"](.*)[\\'\"]\\]$', r'\\1', dialogue.strip())\n",
        "\n",
        "    # Step 2: Replace escaped quotes and newlines\n",
        "    dialogue_clean = dialogue_clean.replace('\\\\\\'', \"'\").replace('\\\\\"', '\"').replace('\\n', ' ')\n",
        "\n",
        "    # Step 3: Split into utterances (try both '__eou__' and quote-based splitting)\n",
        "    if \"__eou__\" in dialogue_clean:\n",
        "        utterances = [u.strip() for u in dialogue_clean.split(\"__eou__\") if u.strip()]\n",
        "    else:\n",
        "        # Split by quotes (handles both single and double quotes)\n",
        "        utterances = re.findall(r'[\\'\"](.*?)[\\'\"]', dialogue_clean)\n",
        "        utterances = [u.strip() for u in utterances if u.strip()]\n",
        "\n",
        "    # Step 4: Create input-output pairs\n",
        "    if len(utterances) > 1:\n",
        "        for i in range(len(utterances) - 1):\n",
        "            input_texts.append(utterances[i])\n",
        "            target_texts.append(utterances[i + 1])\n",
        "\n",
        "# Debugging: Check pairs\n",
        "print(f\"\\nNumber of input-output pairs: {len(input_texts)}\")\n",
        "if input_texts:\n",
        "    print(\"First 3 input-output pairs:\")\n",
        "    for i in range(min(3, len(input_texts))):\n",
        "        print(f\"Input: {input_texts[i]}\")\n",
        "        print(f\"Target: {target_texts[i]}\\n\")\n",
        "else:\n",
        "    raise ValueError(\"No input-output pairs were created. Check dialogue formatting.\")\n",
        "\n",
        "# Tokenizer setup\n",
        "tokenizer = Tokenizer(oov_token=\"<OOV>\")\n",
        "tokenizer.fit_on_texts(input_texts + target_texts)\n",
        "\n",
        "input_sequences = tokenizer.texts_to_sequences(input_texts)\n",
        "target_sequences = tokenizer.texts_to_sequences(target_texts)\n",
        "\n",
        "# Pad sequences\n",
        "max_input_len = max(len(seq) for seq in input_sequences) if input_sequences else 0\n",
        "max_target_len = max(len(seq) for seq in target_sequences) if target_sequences else 0\n",
        "\n",
        "encoder_input_data = pad_sequences(input_sequences, maxlen=max_input_len, padding='post')\n",
        "decoder_input_data = pad_sequences(target_sequences, maxlen=max_target_len, padding='post')\n",
        "\n",
        "# For decoder targets, shift by 1\n",
        "decoder_target_data = np.zeros_like(decoder_input_data)\n",
        "decoder_target_data[:, :-1] = decoder_input_data[:, 1:]\n",
        "decoder_target_data[:, -1] = 0  # last token is padding\n",
        "\n",
        "print(\"\\nEncoder input shape:\", encoder_input_data.shape)\n",
        "print(\"Decoder input shape:\", decoder_input_data.shape)\n",
        "print(\"Decoder target shape:\", decoder_target_data.shape)"
      ],
      "metadata": {
        "colab": {
          "base_uri": "https://localhost:8080/"
        },
        "id": "zPE_soYQ9zRa",
        "outputId": "1eff3abe-70f4-4449-c0fa-a158b6820b35"
      },
      "execution_count": 3,
      "outputs": [
        {
          "output_type": "stream",
          "name": "stdout",
          "text": [
            "First few raw dialogues:\n",
            "['[\\'Say , Jim , how about going for a few beers after dinner ? \\'\\n \\' You know that is tempting but is really not good for our fitness . \\'\\n \\' What do you mean ? It will help us to relax . \\'\\n \" Do you really think so ? I don\\'t . It will just make us fat and act silly . Remember last time ? \"\\n \" I guess you are right.But what shall we do ? I don\\'t feel like sitting at home . \"\\n \\' I suggest a walk over to the gym where we can play singsong and meet some of our friends . \\'\\n \" That\\'s a good idea . I hear Mary and Sally often go there to play pingpong.Perhaps we can make a foursome with them . \"\\n \\' Sounds great to me ! If they are willing , we could ask them to go dancing with us.That is excellent exercise and fun , too . \\'\\n \" Good.Let \\' s go now . \" \\' All right . \\']', '[\\'Can you do push-ups ? \\'\\n \" Of course I can . It\\'s a piece of cake ! Believe it or not , I can do 30 push-ups a minute . \"\\n \" Really ? I think that\\'s impossible ! \" \\' You mean 30 push-ups ? \\'\\n \\' Yeah ! \\'\\n \" It\\'s easy . If you do exercise everyday , you can make it , too . \"]', '[\\'Can you study with the radio on ? \\'\\n \\' No , I listen to background music . \\' \\' What is the difference ? \\'\\n \\' The radio has too many comerials . \\'\\n \" That\\'s true , but then you have to buy a record player . \"]']\n",
            "\n",
            "Number of input-output pairs: 64618\n",
            "First 3 input-output pairs:\n",
            "Input: Say , Jim , how about going for a few beers after dinner ?\n",
            "Target: You know that is tempting but is really not good for our fitness .\n",
            "\n",
            "Input: You know that is tempting but is really not good for our fitness .\n",
            "Target: What do you mean ? It will help us to relax .\n",
            "\n",
            "Input: What do you mean ? It will help us to relax .\n",
            "Target: Do you really think so ? I don\n",
            "\n",
            "\n",
            "Encoder input shape: (64618, 235)\n",
            "Decoder input shape: (64618, 235)\n",
            "Decoder target shape: (64618, 235)\n"
          ]
        }
      ]
    },
    {
      "cell_type": "markdown",
      "source": [
        "**LSTM-based Encoder-Decoder Architecture (without Attention)**"
      ],
      "metadata": {
        "id": "cNUNADm_T-6a"
      }
    },
    {
      "cell_type": "code",
      "source": [
        "from tensorflow.keras.models import Model\n",
        "from tensorflow.keras.layers import Input, LSTM, Dense, Embedding\n",
        "from tensorflow.keras.optimizers import Adam\n",
        "import time\n",
        "\n",
        "# Hyperparameters\n",
        "vocab_size = len(tokenizer.word_index) + 1\n",
        "embedding_dim = 256\n",
        "lstm_units = 512\n",
        "batch_size = 64\n",
        "epochs = 10\n",
        "\n",
        "# Encoder\n",
        "encoder_inputs = Input(shape=(None,))\n",
        "enc_emb = Embedding(vocab_size, embedding_dim, mask_zero=True)(encoder_inputs)\n",
        "encoder_lstm = LSTM(lstm_units, return_state=True)\n",
        "encoder_outputs, state_h, state_c = encoder_lstm(enc_emb)\n",
        "encoder_states = [state_h, state_c]\n",
        "\n",
        "# Decoder\n",
        "decoder_inputs = Input(shape=(None,))\n",
        "dec_emb = Embedding(vocab_size, embedding_dim, mask_zero=True)(decoder_inputs)\n",
        "decoder_lstm = LSTM(lstm_units, return_sequences=True, return_state=True)\n",
        "decoder_outputs, _, _ = decoder_lstm(dec_emb, initial_state=encoder_states)\n",
        "decoder_dense = Dense(vocab_size, activation='softmax')\n",
        "decoder_outputs = decoder_dense(decoder_outputs)\n",
        "\n",
        "# Full model\n",
        "model = Model([encoder_inputs, decoder_inputs], decoder_outputs)\n",
        "model.compile(optimizer=Adam(0.001), loss='sparse_categorical_crossentropy')\n",
        "\n",
        "print(model.summary())"
      ],
      "metadata": {
        "colab": {
          "base_uri": "https://localhost:8080/",
          "height": 573
        },
        "id": "sj9JE_FaTwce",
        "outputId": "bc3626b3-96bc-4094-c86e-94ea8afcdb9b"
      },
      "execution_count": 4,
      "outputs": [
        {
          "output_type": "display_data",
          "data": {
            "text/plain": [
              "\u001b[1mModel: \"functional\"\u001b[0m\n"
            ],
            "text/html": [
              "<pre style=\"white-space:pre;overflow-x:auto;line-height:normal;font-family:Menlo,'DejaVu Sans Mono',consolas,'Courier New',monospace\"><span style=\"font-weight: bold\">Model: \"functional\"</span>\n",
              "</pre>\n"
            ]
          },
          "metadata": {}
        },
        {
          "output_type": "display_data",
          "data": {
            "text/plain": [
              "┏━━━━━━━━━━━━━━━━━━━━━┳━━━━━━━━━━━━━━━━━━━┳━━━━━━━━━━━━┳━━━━━━━━━━━━━━━━━━━┓\n",
              "┃\u001b[1m \u001b[0m\u001b[1mLayer (type)       \u001b[0m\u001b[1m \u001b[0m┃\u001b[1m \u001b[0m\u001b[1mOutput Shape     \u001b[0m\u001b[1m \u001b[0m┃\u001b[1m \u001b[0m\u001b[1m   Param #\u001b[0m\u001b[1m \u001b[0m┃\u001b[1m \u001b[0m\u001b[1mConnected to     \u001b[0m\u001b[1m \u001b[0m┃\n",
              "┡━━━━━━━━━━━━━━━━━━━━━╇━━━━━━━━━━━━━━━━━━━╇━━━━━━━━━━━━╇━━━━━━━━━━━━━━━━━━━┩\n",
              "│ input_layer         │ (\u001b[38;5;45mNone\u001b[0m, \u001b[38;5;45mNone\u001b[0m)      │          \u001b[38;5;34m0\u001b[0m │ -                 │\n",
              "│ (\u001b[38;5;33mInputLayer\u001b[0m)        │                   │            │                   │\n",
              "├─────────────────────┼───────────────────┼────────────┼───────────────────┤\n",
              "│ input_layer_1       │ (\u001b[38;5;45mNone\u001b[0m, \u001b[38;5;45mNone\u001b[0m)      │          \u001b[38;5;34m0\u001b[0m │ -                 │\n",
              "│ (\u001b[38;5;33mInputLayer\u001b[0m)        │                   │            │                   │\n",
              "├─────────────────────┼───────────────────┼────────────┼───────────────────┤\n",
              "│ embedding           │ (\u001b[38;5;45mNone\u001b[0m, \u001b[38;5;45mNone\u001b[0m, \u001b[38;5;34m256\u001b[0m) │  \u001b[38;5;34m3,859,712\u001b[0m │ input_layer[\u001b[38;5;34m0\u001b[0m][\u001b[38;5;34m0\u001b[0m] │\n",
              "│ (\u001b[38;5;33mEmbedding\u001b[0m)         │                   │            │                   │\n",
              "├─────────────────────┼───────────────────┼────────────┼───────────────────┤\n",
              "│ not_equal           │ (\u001b[38;5;45mNone\u001b[0m, \u001b[38;5;45mNone\u001b[0m)      │          \u001b[38;5;34m0\u001b[0m │ input_layer[\u001b[38;5;34m0\u001b[0m][\u001b[38;5;34m0\u001b[0m] │\n",
              "│ (\u001b[38;5;33mNotEqual\u001b[0m)          │                   │            │                   │\n",
              "├─────────────────────┼───────────────────┼────────────┼───────────────────┤\n",
              "│ embedding_1         │ (\u001b[38;5;45mNone\u001b[0m, \u001b[38;5;45mNone\u001b[0m, \u001b[38;5;34m256\u001b[0m) │  \u001b[38;5;34m3,859,712\u001b[0m │ input_layer_1[\u001b[38;5;34m0\u001b[0m]… │\n",
              "│ (\u001b[38;5;33mEmbedding\u001b[0m)         │                   │            │                   │\n",
              "├─────────────────────┼───────────────────┼────────────┼───────────────────┤\n",
              "│ lstm (\u001b[38;5;33mLSTM\u001b[0m)         │ [(\u001b[38;5;45mNone\u001b[0m, \u001b[38;5;34m512\u001b[0m),     │  \u001b[38;5;34m1,574,912\u001b[0m │ embedding[\u001b[38;5;34m0\u001b[0m][\u001b[38;5;34m0\u001b[0m],  │\n",
              "│                     │ (\u001b[38;5;45mNone\u001b[0m, \u001b[38;5;34m512\u001b[0m),      │            │ not_equal[\u001b[38;5;34m0\u001b[0m][\u001b[38;5;34m0\u001b[0m]   │\n",
              "│                     │ (\u001b[38;5;45mNone\u001b[0m, \u001b[38;5;34m512\u001b[0m)]      │            │                   │\n",
              "├─────────────────────┼───────────────────┼────────────┼───────────────────┤\n",
              "│ lstm_1 (\u001b[38;5;33mLSTM\u001b[0m)       │ [(\u001b[38;5;45mNone\u001b[0m, \u001b[38;5;45mNone\u001b[0m,     │  \u001b[38;5;34m1,574,912\u001b[0m │ embedding_1[\u001b[38;5;34m0\u001b[0m][\u001b[38;5;34m0\u001b[0m… │\n",
              "│                     │ \u001b[38;5;34m512\u001b[0m), (\u001b[38;5;45mNone\u001b[0m,      │            │ lstm[\u001b[38;5;34m0\u001b[0m][\u001b[38;5;34m1\u001b[0m],       │\n",
              "│                     │ \u001b[38;5;34m512\u001b[0m), (\u001b[38;5;45mNone\u001b[0m,      │            │ lstm[\u001b[38;5;34m0\u001b[0m][\u001b[38;5;34m2\u001b[0m]        │\n",
              "│                     │ \u001b[38;5;34m512\u001b[0m)]             │            │                   │\n",
              "├─────────────────────┼───────────────────┼────────────┼───────────────────┤\n",
              "│ dense (\u001b[38;5;33mDense\u001b[0m)       │ (\u001b[38;5;45mNone\u001b[0m, \u001b[38;5;45mNone\u001b[0m,      │  \u001b[38;5;34m7,734,501\u001b[0m │ lstm_1[\u001b[38;5;34m0\u001b[0m][\u001b[38;5;34m0\u001b[0m]      │\n",
              "│                     │ \u001b[38;5;34m15077\u001b[0m)            │            │                   │\n",
              "└─────────────────────┴───────────────────┴────────────┴───────────────────┘\n"
            ],
            "text/html": [
              "<pre style=\"white-space:pre;overflow-x:auto;line-height:normal;font-family:Menlo,'DejaVu Sans Mono',consolas,'Courier New',monospace\">┏━━━━━━━━━━━━━━━━━━━━━┳━━━━━━━━━━━━━━━━━━━┳━━━━━━━━━━━━┳━━━━━━━━━━━━━━━━━━━┓\n",
              "┃<span style=\"font-weight: bold\"> Layer (type)        </span>┃<span style=\"font-weight: bold\"> Output Shape      </span>┃<span style=\"font-weight: bold\">    Param # </span>┃<span style=\"font-weight: bold\"> Connected to      </span>┃\n",
              "┡━━━━━━━━━━━━━━━━━━━━━╇━━━━━━━━━━━━━━━━━━━╇━━━━━━━━━━━━╇━━━━━━━━━━━━━━━━━━━┩\n",
              "│ input_layer         │ (<span style=\"color: #00d7ff; text-decoration-color: #00d7ff\">None</span>, <span style=\"color: #00d7ff; text-decoration-color: #00d7ff\">None</span>)      │          <span style=\"color: #00af00; text-decoration-color: #00af00\">0</span> │ -                 │\n",
              "│ (<span style=\"color: #0087ff; text-decoration-color: #0087ff\">InputLayer</span>)        │                   │            │                   │\n",
              "├─────────────────────┼───────────────────┼────────────┼───────────────────┤\n",
              "│ input_layer_1       │ (<span style=\"color: #00d7ff; text-decoration-color: #00d7ff\">None</span>, <span style=\"color: #00d7ff; text-decoration-color: #00d7ff\">None</span>)      │          <span style=\"color: #00af00; text-decoration-color: #00af00\">0</span> │ -                 │\n",
              "│ (<span style=\"color: #0087ff; text-decoration-color: #0087ff\">InputLayer</span>)        │                   │            │                   │\n",
              "├─────────────────────┼───────────────────┼────────────┼───────────────────┤\n",
              "│ embedding           │ (<span style=\"color: #00d7ff; text-decoration-color: #00d7ff\">None</span>, <span style=\"color: #00d7ff; text-decoration-color: #00d7ff\">None</span>, <span style=\"color: #00af00; text-decoration-color: #00af00\">256</span>) │  <span style=\"color: #00af00; text-decoration-color: #00af00\">3,859,712</span> │ input_layer[<span style=\"color: #00af00; text-decoration-color: #00af00\">0</span>][<span style=\"color: #00af00; text-decoration-color: #00af00\">0</span>] │\n",
              "│ (<span style=\"color: #0087ff; text-decoration-color: #0087ff\">Embedding</span>)         │                   │            │                   │\n",
              "├─────────────────────┼───────────────────┼────────────┼───────────────────┤\n",
              "│ not_equal           │ (<span style=\"color: #00d7ff; text-decoration-color: #00d7ff\">None</span>, <span style=\"color: #00d7ff; text-decoration-color: #00d7ff\">None</span>)      │          <span style=\"color: #00af00; text-decoration-color: #00af00\">0</span> │ input_layer[<span style=\"color: #00af00; text-decoration-color: #00af00\">0</span>][<span style=\"color: #00af00; text-decoration-color: #00af00\">0</span>] │\n",
              "│ (<span style=\"color: #0087ff; text-decoration-color: #0087ff\">NotEqual</span>)          │                   │            │                   │\n",
              "├─────────────────────┼───────────────────┼────────────┼───────────────────┤\n",
              "│ embedding_1         │ (<span style=\"color: #00d7ff; text-decoration-color: #00d7ff\">None</span>, <span style=\"color: #00d7ff; text-decoration-color: #00d7ff\">None</span>, <span style=\"color: #00af00; text-decoration-color: #00af00\">256</span>) │  <span style=\"color: #00af00; text-decoration-color: #00af00\">3,859,712</span> │ input_layer_1[<span style=\"color: #00af00; text-decoration-color: #00af00\">0</span>]… │\n",
              "│ (<span style=\"color: #0087ff; text-decoration-color: #0087ff\">Embedding</span>)         │                   │            │                   │\n",
              "├─────────────────────┼───────────────────┼────────────┼───────────────────┤\n",
              "│ lstm (<span style=\"color: #0087ff; text-decoration-color: #0087ff\">LSTM</span>)         │ [(<span style=\"color: #00d7ff; text-decoration-color: #00d7ff\">None</span>, <span style=\"color: #00af00; text-decoration-color: #00af00\">512</span>),     │  <span style=\"color: #00af00; text-decoration-color: #00af00\">1,574,912</span> │ embedding[<span style=\"color: #00af00; text-decoration-color: #00af00\">0</span>][<span style=\"color: #00af00; text-decoration-color: #00af00\">0</span>],  │\n",
              "│                     │ (<span style=\"color: #00d7ff; text-decoration-color: #00d7ff\">None</span>, <span style=\"color: #00af00; text-decoration-color: #00af00\">512</span>),      │            │ not_equal[<span style=\"color: #00af00; text-decoration-color: #00af00\">0</span>][<span style=\"color: #00af00; text-decoration-color: #00af00\">0</span>]   │\n",
              "│                     │ (<span style=\"color: #00d7ff; text-decoration-color: #00d7ff\">None</span>, <span style=\"color: #00af00; text-decoration-color: #00af00\">512</span>)]      │            │                   │\n",
              "├─────────────────────┼───────────────────┼────────────┼───────────────────┤\n",
              "│ lstm_1 (<span style=\"color: #0087ff; text-decoration-color: #0087ff\">LSTM</span>)       │ [(<span style=\"color: #00d7ff; text-decoration-color: #00d7ff\">None</span>, <span style=\"color: #00d7ff; text-decoration-color: #00d7ff\">None</span>,     │  <span style=\"color: #00af00; text-decoration-color: #00af00\">1,574,912</span> │ embedding_1[<span style=\"color: #00af00; text-decoration-color: #00af00\">0</span>][<span style=\"color: #00af00; text-decoration-color: #00af00\">0</span>… │\n",
              "│                     │ <span style=\"color: #00af00; text-decoration-color: #00af00\">512</span>), (<span style=\"color: #00d7ff; text-decoration-color: #00d7ff\">None</span>,      │            │ lstm[<span style=\"color: #00af00; text-decoration-color: #00af00\">0</span>][<span style=\"color: #00af00; text-decoration-color: #00af00\">1</span>],       │\n",
              "│                     │ <span style=\"color: #00af00; text-decoration-color: #00af00\">512</span>), (<span style=\"color: #00d7ff; text-decoration-color: #00d7ff\">None</span>,      │            │ lstm[<span style=\"color: #00af00; text-decoration-color: #00af00\">0</span>][<span style=\"color: #00af00; text-decoration-color: #00af00\">2</span>]        │\n",
              "│                     │ <span style=\"color: #00af00; text-decoration-color: #00af00\">512</span>)]             │            │                   │\n",
              "├─────────────────────┼───────────────────┼────────────┼───────────────────┤\n",
              "│ dense (<span style=\"color: #0087ff; text-decoration-color: #0087ff\">Dense</span>)       │ (<span style=\"color: #00d7ff; text-decoration-color: #00d7ff\">None</span>, <span style=\"color: #00d7ff; text-decoration-color: #00d7ff\">None</span>,      │  <span style=\"color: #00af00; text-decoration-color: #00af00\">7,734,501</span> │ lstm_1[<span style=\"color: #00af00; text-decoration-color: #00af00\">0</span>][<span style=\"color: #00af00; text-decoration-color: #00af00\">0</span>]      │\n",
              "│                     │ <span style=\"color: #00af00; text-decoration-color: #00af00\">15077</span>)            │            │                   │\n",
              "└─────────────────────┴───────────────────┴────────────┴───────────────────┘\n",
              "</pre>\n"
            ]
          },
          "metadata": {}
        },
        {
          "output_type": "display_data",
          "data": {
            "text/plain": [
              "\u001b[1m Total params: \u001b[0m\u001b[38;5;34m18,603,749\u001b[0m (70.97 MB)\n"
            ],
            "text/html": [
              "<pre style=\"white-space:pre;overflow-x:auto;line-height:normal;font-family:Menlo,'DejaVu Sans Mono',consolas,'Courier New',monospace\"><span style=\"font-weight: bold\"> Total params: </span><span style=\"color: #00af00; text-decoration-color: #00af00\">18,603,749</span> (70.97 MB)\n",
              "</pre>\n"
            ]
          },
          "metadata": {}
        },
        {
          "output_type": "display_data",
          "data": {
            "text/plain": [
              "\u001b[1m Trainable params: \u001b[0m\u001b[38;5;34m18,603,749\u001b[0m (70.97 MB)\n"
            ],
            "text/html": [
              "<pre style=\"white-space:pre;overflow-x:auto;line-height:normal;font-family:Menlo,'DejaVu Sans Mono',consolas,'Courier New',monospace\"><span style=\"font-weight: bold\"> Trainable params: </span><span style=\"color: #00af00; text-decoration-color: #00af00\">18,603,749</span> (70.97 MB)\n",
              "</pre>\n"
            ]
          },
          "metadata": {}
        },
        {
          "output_type": "display_data",
          "data": {
            "text/plain": [
              "\u001b[1m Non-trainable params: \u001b[0m\u001b[38;5;34m0\u001b[0m (0.00 B)\n"
            ],
            "text/html": [
              "<pre style=\"white-space:pre;overflow-x:auto;line-height:normal;font-family:Menlo,'DejaVu Sans Mono',consolas,'Courier New',monospace\"><span style=\"font-weight: bold\"> Non-trainable params: </span><span style=\"color: #00af00; text-decoration-color: #00af00\">0</span> (0.00 B)\n",
              "</pre>\n"
            ]
          },
          "metadata": {}
        },
        {
          "output_type": "stream",
          "name": "stdout",
          "text": [
            "None\n"
          ]
        }
      ]
    },
    {
      "cell_type": "markdown",
      "source": [
        "**Training the Model**"
      ],
      "metadata": {
        "id": "UWPaxBQV4O8V"
      }
    },
    {
      "cell_type": "code",
      "source": [
        "from sklearn.model_selection import train_test_split\n",
        "\n",
        "# Split into train/test sets (e.g., 80% train, 20% test)\n",
        "encoder_input_train, encoder_input_test, decoder_input_train, decoder_input_test, decoder_target_train, decoder_target_test = train_test_split(\n",
        "    encoder_input_data, decoder_input_data, decoder_target_data, test_size=0.2, random_state=42)\n"
      ],
      "metadata": {
        "id": "dcegIgwMc3Qm"
      },
      "execution_count": 5,
      "outputs": []
    },
    {
      "cell_type": "code",
      "source": [
        "# Take only 1% of the data (adjust fraction as needed)\n",
        "sample_size = len(encoder_input_data) // 100\n",
        "\n",
        "# Create small training subset\n",
        "small_encoder = encoder_input_data[:sample_size]\n",
        "small_decoder = decoder_input_data[:sample_size]\n",
        "small_target = np.zeros_like(small_decoder)\n",
        "small_target[:, :-1] = small_decoder[:, 1:]\n",
        "\n",
        "# Train on small subset\n",
        "start_time = time.time()\n",
        "\n",
        "history = model.fit(\n",
        "    [small_encoder, small_decoder],\n",
        "    small_target,\n",
        "    batch_size=32,  # Smaller batch for testing\n",
        "    epochs=epochs,\n",
        "    validation_split=0.2,\n",
        "    verbose=1\n",
        ")\n",
        "\n",
        "print(f\"Fast training completed in {time.time()-start_time:.2f} seconds\")"
      ],
      "metadata": {
        "colab": {
          "base_uri": "https://localhost:8080/"
        },
        "id": "GaqdHt0BeMMB",
        "outputId": "2846bb93-be2c-4ae2-d49e-c823cb82e42e"
      },
      "execution_count": 9,
      "outputs": [
        {
          "output_type": "stream",
          "name": "stdout",
          "text": [
            "Epoch 1/10\n",
            "\u001b[1m17/17\u001b[0m \u001b[32m━━━━━━━━━━━━━━━━━━━━\u001b[0m\u001b[37m\u001b[0m \u001b[1m9s\u001b[0m 208ms/step - loss: 9.2505 - val_loss: 6.7905\n",
            "Epoch 2/10\n",
            "\u001b[1m17/17\u001b[0m \u001b[32m━━━━━━━━━━━━━━━━━━━━\u001b[0m\u001b[37m\u001b[0m \u001b[1m7s\u001b[0m 206ms/step - loss: 6.2549 - val_loss: 6.9614\n",
            "Epoch 3/10\n",
            "\u001b[1m17/17\u001b[0m \u001b[32m━━━━━━━━━━━━━━━━━━━━\u001b[0m\u001b[37m\u001b[0m \u001b[1m5s\u001b[0m 184ms/step - loss: 5.8425 - val_loss: 6.8071\n",
            "Epoch 4/10\n",
            "\u001b[1m17/17\u001b[0m \u001b[32m━━━━━━━━━━━━━━━━━━━━\u001b[0m\u001b[37m\u001b[0m \u001b[1m5s\u001b[0m 186ms/step - loss: 5.7248 - val_loss: 6.7486\n",
            "Epoch 5/10\n",
            "\u001b[1m17/17\u001b[0m \u001b[32m━━━━━━━━━━━━━━━━━━━━\u001b[0m\u001b[37m\u001b[0m \u001b[1m5s\u001b[0m 186ms/step - loss: 5.6488 - val_loss: 6.7579\n",
            "Epoch 6/10\n",
            "\u001b[1m17/17\u001b[0m \u001b[32m━━━━━━━━━━━━━━━━━━━━\u001b[0m\u001b[37m\u001b[0m \u001b[1m3s\u001b[0m 184ms/step - loss: 5.6196 - val_loss: 6.6851\n",
            "Epoch 7/10\n",
            "\u001b[1m17/17\u001b[0m \u001b[32m━━━━━━━━━━━━━━━━━━━━\u001b[0m\u001b[37m\u001b[0m \u001b[1m3s\u001b[0m 185ms/step - loss: 5.5638 - val_loss: 6.6091\n",
            "Epoch 8/10\n",
            "\u001b[1m17/17\u001b[0m \u001b[32m━━━━━━━━━━━━━━━━━━━━\u001b[0m\u001b[37m\u001b[0m \u001b[1m5s\u001b[0m 185ms/step - loss: 5.4309 - val_loss: 6.6662\n",
            "Epoch 9/10\n",
            "\u001b[1m17/17\u001b[0m \u001b[32m━━━━━━━━━━━━━━━━━━━━\u001b[0m\u001b[37m\u001b[0m \u001b[1m3s\u001b[0m 185ms/step - loss: 5.3741 - val_loss: 6.6919\n",
            "Epoch 10/10\n",
            "\u001b[1m17/17\u001b[0m \u001b[32m━━━━━━━━━━━━━━━━━━━━\u001b[0m\u001b[37m\u001b[0m \u001b[1m3s\u001b[0m 186ms/step - loss: 5.2918 - val_loss: 6.5911\n",
            "Fast training completed in 51.10 seconds\n"
          ]
        }
      ]
    },
    {
      "cell_type": "markdown",
      "source": [
        "**Evaluation Metrics**"
      ],
      "metadata": {
        "id": "mVCUtzORa_5E"
      }
    },
    {
      "cell_type": "code",
      "source": [
        "import pandas as pd\n",
        "import numpy as np\n",
        "import tensorflow as tf\n",
        "from tensorflow.keras.preprocessing.text import Tokenizer\n",
        "from tensorflow.keras.preprocessing.sequence import pad_sequences\n",
        "import os\n",
        "\n",
        "# Load datasets\n",
        "train_df = pd.read_csv(os.path.join(dataset_path, \"train.csv\"))\n",
        "valid_df = pd.read_csv(os.path.join(dataset_path, \"validation.csv\"))\n",
        "test_df = pd.read_csv(os.path.join(dataset_path, \"test.csv\"))\n",
        "\n",
        "# Drop missing values\n",
        "train_df = train_df.dropna()\n",
        "\n",
        "# Extract input and target texts\n",
        "input_texts = train_df['dialog'].astype(str).tolist()  # Input sequences (dialogues)\n",
        "target_texts = train_df['act'].astype(str).apply(lambda x: '<start> ' + x + ' <end>').tolist()  # Target sequences (actions)\n",
        "\n",
        "# Tokenize the input and target texts\n",
        "tokenizer = Tokenizer(filters='', oov_token='<OOV>')\n",
        "tokenizer.fit_on_texts(input_texts + target_texts)  # Fit tokenizer on both input and target texts\n",
        "\n",
        "# Convert texts to sequences\n",
        "input_seq = tokenizer.texts_to_sequences(input_texts)\n",
        "target_seq = tokenizer.texts_to_sequences(target_texts)\n",
        "\n",
        "# Find the maximum sequence lengths for input and target sequences\n",
        "max_input_len = max(len(seq) for seq in input_seq)\n",
        "max_target_len = max(len(seq) for seq in target_seq)\n",
        "\n",
        "# Padding sequences to a fixed length\n",
        "input_seq = pad_sequences(input_seq, maxlen=max_input_len, padding='post')\n",
        "target_seq = pad_sequences(target_seq, maxlen=max_target_len, padding='post')\n",
        "\n",
        "# Split the target sequence into decoder input and decoder output\n",
        "decoder_input = target_seq[:, :-1]  # The decoder input is the target sequence excluding the last token\n",
        "decoder_output = target_seq[:, 1:]  # The decoder output is the target sequence excluding the first token\n",
        "\n"
      ],
      "metadata": {
        "id": "7RceyU4yht3L"
      },
      "execution_count": 29,
      "outputs": []
    },
    {
      "cell_type": "code",
      "source": [
        "from tensorflow.keras.models import Model\n",
        "from tensorflow.keras.layers import Input, Embedding, GRU, AdditiveAttention, Concatenate, Dense\n",
        "import tensorflow as tf\n",
        "\n",
        "# Define fixed sizes\n",
        "vocab_size = len(tokenizer.word_index) + 1\n",
        "embedding_dim = 256\n",
        "latent_dim = 256\n",
        "\n",
        "# Encoder\n",
        "encoder_inputs = Input(shape=(max_input_len,))\n",
        "enc_emb = Embedding(vocab_size, embedding_dim)(encoder_inputs)\n",
        "enc_outputs, enc_state = GRU(latent_dim, return_sequences=True, return_state=True)(enc_emb)\n",
        "\n",
        "# Decoder\n",
        "decoder_inputs = Input(shape=(max_target_len - 1,))\n",
        "dec_emb = Embedding(vocab_size, embedding_dim)(decoder_inputs)\n",
        "dec_outputs, _ = GRU(latent_dim, return_sequences=True, return_state=True)(dec_emb, initial_state=enc_state)\n",
        "\n",
        "# Attention\n",
        "attention = AdditiveAttention()\n",
        "context_vector = attention([dec_outputs, enc_outputs])\n",
        "\n",
        "# Concatenate context with decoder output\n",
        "concat = Concatenate(axis=-1)([context_vector, dec_outputs])\n",
        "\n",
        "# Final dense layer\n",
        "final_output = Dense(vocab_size, activation='softmax')(concat)\n",
        "\n",
        "# Compile model\n",
        "attn_model = Model([encoder_inputs, decoder_inputs], final_output)\n",
        "attn_model.compile(optimizer='adam', loss='sparse_categorical_crossentropy', metrics=['accuracy'])\n"
      ],
      "metadata": {
        "id": "SaFTLTMmkNw6"
      },
      "execution_count": 8,
      "outputs": []
    },
    {
      "cell_type": "code",
      "source": [
        "import numpy as np\n",
        "\n",
        "# Sample predictions and references (after tokenization)\n",
        "predictions = [\"the cat sat on the mat\", \"this is a test sentence\"]\n",
        "references = [\"the cat is sitting on the mat\", \"this is a test\"]\n",
        "\n",
        "# Tokenize the text into words\n",
        "def tokenize(text):\n",
        "    return text.split()\n",
        "\n",
        "# Token-level accuracy calculation\n",
        "def calculate_token_accuracy(predictions, references):\n",
        "    correct = 0\n",
        "    total = 0\n",
        "\n",
        "    for i in range(len(predictions)):\n",
        "        # Tokenize both prediction and reference sequences\n",
        "        pred_tokens = tokenize(predictions[i])\n",
        "        ref_tokens = tokenize(references[i])\n",
        "\n",
        "        # Count token matches\n",
        "        for token in pred_tokens:\n",
        "            if token in ref_tokens:\n",
        "                correct += 1\n",
        "        total += len(pred_tokens)\n",
        "\n",
        "    accuracy = (correct / total) * 100 if total > 0 else 0\n",
        "    return accuracy\n",
        "\n",
        "# Calculate and print token-level accuracy\n",
        "accuracy = calculate_token_accuracy(predictions, references)\n",
        "print(f\" Accuracy: {accuracy:.2f}%\")\n"
      ],
      "metadata": {
        "colab": {
          "base_uri": "https://localhost:8080/"
        },
        "id": "bagE_fbTn8NJ",
        "outputId": "7dc94fe3-d0f5-4609-b67b-b3cadb0c2c33"
      },
      "execution_count": 22,
      "outputs": [
        {
          "output_type": "stream",
          "name": "stdout",
          "text": [
            " Accuracy: 81.82%\n"
          ]
        }
      ]
    },
    {
      "cell_type": "code",
      "source": [
        "from rouge_score import rouge_scorer\n",
        "\n",
        "# Sample predictions and references\n",
        "predictions = [\"the cat sat on the mat\", \"this is a test sentence\"]\n",
        "references = [\"the cat is sitting on the mat\", \"this is a test\"]\n",
        "\n",
        "# Initialize the ROUGE scorer\n",
        "scorer = rouge_scorer.RougeScorer(['rouge1', 'rouge2', 'rougeL'])\n",
        "\n",
        "# Calculate ROUGE scores\n",
        "for i in range(len(predictions)):\n",
        "    prediction = predictions[i]\n",
        "    reference = references[i]\n",
        "\n",
        "    # Compute ROUGE score for each prediction-reference pair\n",
        "    score = scorer.score(reference, prediction)\n",
        "    print(f\"ROUGE scores for Prediction {i + 1}:\")\n",
        "    print(f\"ROUGE-1: {score['rouge1']}\")\n",
        "    print(f\"ROUGE-2: {score['rouge2']}\")\n",
        "    print(f\"ROUGE-L: {score['rougeL']}\")\n",
        "    print(\"-------------------------------------------------\")\n"
      ],
      "metadata": {
        "colab": {
          "base_uri": "https://localhost:8080/"
        },
        "id": "1M6nwrStnyHh",
        "outputId": "a8a50181-0446-4827-b31f-5e2a73276b3a"
      },
      "execution_count": 19,
      "outputs": [
        {
          "output_type": "stream",
          "name": "stdout",
          "text": [
            "ROUGE scores for Prediction 1:\n",
            "ROUGE-1: Score(precision=0.8333333333333334, recall=0.7142857142857143, fmeasure=0.7692307692307692)\n",
            "ROUGE-2: Score(precision=0.6, recall=0.5, fmeasure=0.5454545454545454)\n",
            "ROUGE-L: Score(precision=0.8333333333333334, recall=0.7142857142857143, fmeasure=0.7692307692307692)\n",
            "-------------------------------------------------\n",
            "ROUGE scores for Prediction 2:\n",
            "ROUGE-1: Score(precision=0.8, recall=1.0, fmeasure=0.888888888888889)\n",
            "ROUGE-2: Score(precision=0.75, recall=1.0, fmeasure=0.8571428571428571)\n",
            "ROUGE-L: Score(precision=0.8, recall=1.0, fmeasure=0.888888888888889)\n",
            "-------------------------------------------------\n"
          ]
        }
      ]
    },
    {
      "cell_type": "code",
      "source": [
        "import time\n",
        "import numpy as np\n",
        "\n",
        "# Example function for making a prediction with multiple inputs\n",
        "def make_prediction(model, input_sequence, decoder_input_sequence):\n",
        "    prediction = model.predict([input_sequence, decoder_input_sequence])\n",
        "    return prediction\n",
        "\n",
        "# Measure inference time for a single prediction with multiple inputs\n",
        "start_time = time.time()\n",
        "\n",
        "input_sequence = np.random.rand(1, 885)  # Input sequence (shape: (batch_size, input_length))\n",
        "decoder_input_sequence = np.random.rand(1, 36)  # Decoder input sequence (shape: (batch_size, decoder_input_length))\n",
        "\n",
        "# Make the prediction\n",
        "prediction = make_prediction(model, input_sequence, decoder_input_sequence)\n",
        "\n",
        "end_time = time.time()\n",
        "\n",
        "# Calculate inference time\n",
        "inference_time = end_time - start_time\n",
        "print(f\"Inference Time for a Single Prediction: {inference_time:.4f} seconds\")\n"
      ],
      "metadata": {
        "colab": {
          "base_uri": "https://localhost:8080/"
        },
        "id": "yVU4U8tLoi0Y",
        "outputId": "1511a876-c619-40eb-9de6-e1a05d44839f"
      },
      "execution_count": 25,
      "outputs": [
        {
          "output_type": "stream",
          "name": "stdout",
          "text": [
            "\u001b[1m1/1\u001b[0m \u001b[32m━━━━━━━━━━━━━━━━━━━━\u001b[0m\u001b[37m\u001b[0m \u001b[1m3s\u001b[0m 3s/step\n",
            "Inference Time for a Single Prediction: 5.1971 seconds\n"
          ]
        }
      ]
    },
    {
      "cell_type": "code",
      "source": [
        "import nltk\n",
        "from nltk.translate.bleu_score import corpus_bleu, SmoothingFunction\n",
        "\n",
        "# Assuming you already have the predictions and true labels from your model\n",
        "# Here, we assume that the target sequences and the predicted sequences are available\n",
        "\n",
        "def calculate_bleu_and_meteor(predictions, references):\n",
        "    # Define smoothing function for BLEU\n",
        "    smoothing = SmoothingFunction().method1\n",
        "\n",
        "    # BLEU Score Calculation\n",
        "    bleu_score = corpus_bleu(references, predictions, smoothing_function=smoothing, weights=(0.25, 0.25, 0.25, 0.25))  # BLEU-4\n",
        "\n",
        "\n",
        "\n",
        "    return bleu_score\n",
        "\n",
        "\n",
        "# Example format: predictions and references are lists of lists of tokens\n",
        "# (Each sentence's prediction and its references)\n",
        "predictions = [['hello', 'world'], ['this', 'is', 'test']]  # Predicted words\n",
        "references = [[['hello', 'world']], [['this', 'is', 'test']]]  # True words (multiple references possible)\n",
        "\n",
        "# Calculate BLEU and METEOR\n",
        "bleu_score = calculate_bleu_and_meteor(predictions, references)\n",
        "\n",
        "print(f\"BLEU Score: {bleu_score:.4f}\")\n"
      ],
      "metadata": {
        "colab": {
          "base_uri": "https://localhost:8080/"
        },
        "id": "LR9idhX9l9VI",
        "outputId": "e866e85e-a894-41c7-f848-8c939bbd03ee"
      },
      "execution_count": 18,
      "outputs": [
        {
          "output_type": "stream",
          "name": "stdout",
          "text": [
            "BLEU Score: 0.3976\n"
          ]
        }
      ]
    },
    {
      "cell_type": "code",
      "source": [
        "import matplotlib.pyplot as plt\n",
        "\n",
        "# Example scores for Accuracy, BLEU, and METEOR\n",
        "accuracy = 0.8333\n",
        "bleu = 0.3976\n",
        "\n",
        "# Create a list of the metrics and their values\n",
        "metrics = ['Accuracy', 'BLEU']\n",
        "scores = [accuracy, bleu]\n",
        "\n",
        "# Plotting the comparison graph\n",
        "plt.figure(figsize=(8, 6))\n",
        "plt.bar(metrics, scores, color=['blue', 'green', 'orange'])\n",
        "\n",
        "# Adding labels and title\n",
        "plt.xlabel('Metrics')\n",
        "plt.ylabel('Scores')\n",
        "plt.title('Comparison of Model Evaluation Metrics')\n",
        "\n",
        "# Display the plot\n",
        "plt.show()\n"
      ],
      "metadata": {
        "colab": {
          "base_uri": "https://localhost:8080/",
          "height": 564
        },
        "id": "abrZA7znqd4L",
        "outputId": "65ccecd8-9497-4999-9edf-816d245775a6"
      },
      "execution_count": 27,
      "outputs": [
        {
          "output_type": "display_data",
          "data": {
            "text/plain": [
              "<Figure size 800x600 with 1 Axes>"
            ],
            "image/png": "[encoded data removed]"
          },
          "metadata": {}
        }
      ]
    }
  ]
}